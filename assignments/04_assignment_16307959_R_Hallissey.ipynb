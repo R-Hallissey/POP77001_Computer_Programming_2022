{
 "cells": [
  {
   "cell_type": "markdown",
   "id": "1a24ae30",
   "metadata": {
    "slideshow": {
     "slide_type": "slide"
    }
   },
   "source": [
    "# Assignment 4: Data Wrangling and Classes in Python\n",
    "\n",
    "## POP77001 Computer Programming for Social Scientists"
   ]
  },
  {
   "cell_type": "markdown",
   "id": "9fd51027",
   "metadata": {
    "slideshow": {
     "slide_type": "slide"
    }
   },
   "source": [
    "## Before submission\n",
    "\n",
    "- Do not use external libraries unless explicitly specified.\n",
    "- Make sure that you can run all cells without errors.\n",
    "- You can do it by clicking `Kernel`, `Restart & Run All` in the menu above.\n",
    "- Make sure that you save the output by pressing Command+S / CTRL+S.\n",
    "- Rename the file from `04_assignment.ipynb` to `04_assignment_studentnumber_firstname_lastname.ipynb`.\n",
    "- Use Firefox browser for submitting your Jupyter notebook on Blackboard."
   ]
  },
  {
   "cell_type": "markdown",
   "id": "88e17073",
   "metadata": {
    "slideshow": {
     "slide_type": "slide"
    }
   },
   "source": [
    "## Exercise 1: Data transformation\n",
    "\n",
    "For exercises 1-3 we will be working with the [Titanic](https://github.com/pandas-dev/pandas/blob/master/doc/data/titanic.csv) dataset. It contains the list of passengers on Titanic with their sociodemographic characteristics, names and ticket details. First, create two new columns, called 'Last Name' and 'First Name' containing last name and first name of each passenger. Next, calculate the frequencies of passengers' last names. What were the 3 most common last names of passengers on the ship?\n",
    "\n",
    "External libraries:\n",
    "- `numpy`, `pandas`"
   ]
  },
  {
   "cell_type": "code",
   "execution_count": 1,
   "id": "fa530064",
   "metadata": {
    "slideshow": {
     "slide_type": "fragment"
    }
   },
   "outputs": [],
   "source": [
    "import pandas as pd\n",
    "import numpy as np"
   ]
  },
  {
   "cell_type": "code",
   "execution_count": 2,
   "id": "ad68ac28",
   "metadata": {
    "slideshow": {
     "slide_type": "fragment"
    }
   },
   "outputs": [],
   "source": [
    "titanic = pd.read_csv(\"https://raw.githubusercontent.com/pandas-dev/pandas/master/doc/data/titanic.csv\")"
   ]
  },
  {
   "cell_type": "code",
   "execution_count": 3,
   "id": "ed126c66",
   "metadata": {
    "slideshow": {
     "slide_type": "fragment"
    }
   },
   "outputs": [
    {
     "data": {
      "text/html": [
       "<div>\n",
       "<style scoped>\n",
       "    .dataframe tbody tr th:only-of-type {\n",
       "        vertical-align: middle;\n",
       "    }\n",
       "\n",
       "    .dataframe tbody tr th {\n",
       "        vertical-align: top;\n",
       "    }\n",
       "\n",
       "    .dataframe thead th {\n",
       "        text-align: right;\n",
       "    }\n",
       "</style>\n",
       "<table border=\"1\" class=\"dataframe\">\n",
       "  <thead>\n",
       "    <tr style=\"text-align: right;\">\n",
       "      <th></th>\n",
       "      <th>PassengerId</th>\n",
       "      <th>Survived</th>\n",
       "      <th>Pclass</th>\n",
       "      <th>Name</th>\n",
       "      <th>Sex</th>\n",
       "      <th>Age</th>\n",
       "      <th>SibSp</th>\n",
       "      <th>Parch</th>\n",
       "      <th>Ticket</th>\n",
       "      <th>Fare</th>\n",
       "      <th>Cabin</th>\n",
       "      <th>Embarked</th>\n",
       "    </tr>\n",
       "  </thead>\n",
       "  <tbody>\n",
       "    <tr>\n",
       "      <th>0</th>\n",
       "      <td>1</td>\n",
       "      <td>0</td>\n",
       "      <td>3</td>\n",
       "      <td>Braund, Mr. Owen Harris</td>\n",
       "      <td>male</td>\n",
       "      <td>22.0</td>\n",
       "      <td>1</td>\n",
       "      <td>0</td>\n",
       "      <td>A/5 21171</td>\n",
       "      <td>7.2500</td>\n",
       "      <td>NaN</td>\n",
       "      <td>S</td>\n",
       "    </tr>\n",
       "    <tr>\n",
       "      <th>1</th>\n",
       "      <td>2</td>\n",
       "      <td>1</td>\n",
       "      <td>1</td>\n",
       "      <td>Cumings, Mrs. John Bradley (Florence Briggs Th...</td>\n",
       "      <td>female</td>\n",
       "      <td>38.0</td>\n",
       "      <td>1</td>\n",
       "      <td>0</td>\n",
       "      <td>PC 17599</td>\n",
       "      <td>71.2833</td>\n",
       "      <td>C85</td>\n",
       "      <td>C</td>\n",
       "    </tr>\n",
       "    <tr>\n",
       "      <th>2</th>\n",
       "      <td>3</td>\n",
       "      <td>1</td>\n",
       "      <td>3</td>\n",
       "      <td>Heikkinen, Miss. Laina</td>\n",
       "      <td>female</td>\n",
       "      <td>26.0</td>\n",
       "      <td>0</td>\n",
       "      <td>0</td>\n",
       "      <td>STON/O2. 3101282</td>\n",
       "      <td>7.9250</td>\n",
       "      <td>NaN</td>\n",
       "      <td>S</td>\n",
       "    </tr>\n",
       "    <tr>\n",
       "      <th>3</th>\n",
       "      <td>4</td>\n",
       "      <td>1</td>\n",
       "      <td>1</td>\n",
       "      <td>Futrelle, Mrs. Jacques Heath (Lily May Peel)</td>\n",
       "      <td>female</td>\n",
       "      <td>35.0</td>\n",
       "      <td>1</td>\n",
       "      <td>0</td>\n",
       "      <td>113803</td>\n",
       "      <td>53.1000</td>\n",
       "      <td>C123</td>\n",
       "      <td>S</td>\n",
       "    </tr>\n",
       "    <tr>\n",
       "      <th>4</th>\n",
       "      <td>5</td>\n",
       "      <td>0</td>\n",
       "      <td>3</td>\n",
       "      <td>Allen, Mr. William Henry</td>\n",
       "      <td>male</td>\n",
       "      <td>35.0</td>\n",
       "      <td>0</td>\n",
       "      <td>0</td>\n",
       "      <td>373450</td>\n",
       "      <td>8.0500</td>\n",
       "      <td>NaN</td>\n",
       "      <td>S</td>\n",
       "    </tr>\n",
       "  </tbody>\n",
       "</table>\n",
       "</div>"
      ],
      "text/plain": [
       "   PassengerId  Survived  Pclass  \\\n",
       "0            1         0       3   \n",
       "1            2         1       1   \n",
       "2            3         1       3   \n",
       "3            4         1       1   \n",
       "4            5         0       3   \n",
       "\n",
       "                                                Name     Sex   Age  SibSp  \\\n",
       "0                            Braund, Mr. Owen Harris    male  22.0      1   \n",
       "1  Cumings, Mrs. John Bradley (Florence Briggs Th...  female  38.0      1   \n",
       "2                             Heikkinen, Miss. Laina  female  26.0      0   \n",
       "3       Futrelle, Mrs. Jacques Heath (Lily May Peel)  female  35.0      1   \n",
       "4                           Allen, Mr. William Henry    male  35.0      0   \n",
       "\n",
       "   Parch            Ticket     Fare Cabin Embarked  \n",
       "0      0         A/5 21171   7.2500   NaN        S  \n",
       "1      0          PC 17599  71.2833   C85        C  \n",
       "2      0  STON/O2. 3101282   7.9250   NaN        S  \n",
       "3      0            113803  53.1000  C123        S  \n",
       "4      0            373450   8.0500   NaN        S  "
      ]
     },
     "execution_count": 3,
     "metadata": {},
     "output_type": "execute_result"
    }
   ],
   "source": [
    "titanic.head()"
   ]
  },
  {
   "cell_type": "code",
   "execution_count": 4,
   "id": "ae4ac756",
   "metadata": {},
   "outputs": [
    {
     "data": {
      "text/plain": [
       "Andersson    9\n",
       "Sage         7\n",
       "Panula       6\n",
       "Skoog        6\n",
       "Carter       6\n",
       "            ..\n",
       "Hanna        1\n",
       "Lewy         1\n",
       "Mineff       1\n",
       "Haas         1\n",
       "Dooley       1\n",
       "Name: Second_Name, Length: 667, dtype: int64"
      ]
     },
     "execution_count": 4,
     "metadata": {},
     "output_type": "execute_result"
    }
   ],
   "source": [
    "# Exercise 1:\n",
    "\n",
    "# Your code goes here\n",
    "\n",
    "Full_Names = titanic['Name']\n",
    "\n",
    "Names = [N.replace(\"Mr.\", \"\").replace(\"Miss\", \"\").replace(\"Mrs.\", \"\")\n",
    "                   for N in Full_Names]\n",
    "Names\n",
    "\n",
    "titanic['Second_Name'] = [N.split(\", \")[0] for N in Names]\n",
    "titanic['Second_Name']\n",
    "\n",
    "\n",
    "titanic['Second_Name'].value_counts()\n",
    "\n",
    "# Anerson, Sage, Panula"
   ]
  },
  {
   "cell_type": "markdown",
   "id": "bd6869e5",
   "metadata": {
    "slideshow": {
     "slide_type": "slide"
    }
   },
   "source": [
    "## Exercise 2: Binning\n",
    "\n",
    "When analyzing a continuous variable we often want to break it up into discrete categories (bins). For example, age might be considered as a categorical variable with discrete categories of '18-25', '26-35', etc. Implement a function that takes a dataframe, variable name and cutoff points (e.g. 18, 25, 35, etc.) as inputs and returns a dataframe with a single column, which is binned into desired categories. Run this function on the age column of Titanic dataset. What percentage of passengers falls into each of the age bins?\n",
    "\n",
    "Tip: You can use `pandas.cut()` method internally.\n",
    "\n",
    "Function specification:\n",
    "\n",
    "Function takes 3 arguments:\n",
    "- `df` - pandas data frame\n",
    "- `col` - the name of column to be binned\n",
    "- `cutoffs` - a sequence of cuttoff value to be used for binning\n",
    "\n",
    "Function returns 1 object:\n",
    "- `binned_df` - pandas data frame with the selected column binned according to the specification\n",
    "\n",
    "External libraries:\n",
    "- `numpy`, `pandas`"
   ]
  },
  {
   "cell_type": "code",
   "execution_count": 5,
   "id": "c30a2713",
   "metadata": {
    "scrolled": true
   },
   "outputs": [
    {
     "name": "stdout",
     "output_type": "stream",
     "text": [
      "0      18 - 34\n",
      "1      35 - 49\n",
      "2      18 - 34\n",
      "3      35 - 49\n",
      "4      35 - 49\n",
      "        ...   \n",
      "886    18 - 34\n",
      "887    18 - 34\n",
      "888        NaN\n",
      "889    18 - 34\n",
      "890    18 - 34\n",
      "Name: Age Group, Length: 891, dtype: category\n",
      "Categories (5, object): ['Under 18' < '18 - 34' < '35 - 49' < '50 - 64' < '65+']\n"
     ]
    }
   ],
   "source": [
    "# Exercise 2:\n",
    "def age_bin(df, col, cuttoffs):\n",
    "    df = pd.DataFrame(df)\n",
    "    col = df[col]\n",
    "    bins = len(cuttoffs) - 1\n",
    "    df['Age Group'] = pd.cut(np.array(col), bins,\n",
    "    labels=['Under 18', '18 - 34','35 - 49', '50 - 64', '65+'])\n",
    "    print(df['Age Group'])\n",
    "    \n",
    "age_bin(titanic, 'Age', [0, 18, 35, 50, 65, 99])"
   ]
  },
  {
   "cell_type": "code",
   "execution_count": 6,
   "id": "f9e0f274",
   "metadata": {},
   "outputs": [
    {
     "data": {
      "text/plain": [
       "18 - 34     48.459384\n",
       "35 - 49     26.330532\n",
       "Under 18    14.005602\n",
       "50 - 64      9.663866\n",
       "65+          1.540616\n",
       "Name: Age Group, dtype: float64"
      ]
     },
     "execution_count": 6,
     "metadata": {},
     "output_type": "execute_result"
    }
   ],
   "source": [
    "titanic['Age Group'].value_counts(normalize=True) * 100"
   ]
  },
  {
   "cell_type": "markdown",
   "id": "3a012579",
   "metadata": {
    "slideshow": {
     "slide_type": "slide"
    }
   },
   "source": [
    "## Exercise 3: Pattern detection\n",
    "\n",
    "Let us consider the column `Survived`, which contains a binary indicator of whether a given passenger survived the sinking of Titanic. What factors might explain the survival of some passengers but not others? How would you investigate these relationships? Describe your hypotheses and descriptive analyses that can help answering these questions. Perform the outlined descriptive analyses on the dataset.\n",
    "\n",
    "External libraries:\n",
    "- `numpy`, `pandas`"
   ]
  },
  {
   "cell_type": "code",
   "execution_count": 7,
   "id": "1a711d48",
   "metadata": {},
   "outputs": [
    {
     "data": {
      "text/html": [
       "<div>\n",
       "<style scoped>\n",
       "    .dataframe tbody tr th:only-of-type {\n",
       "        vertical-align: middle;\n",
       "    }\n",
       "\n",
       "    .dataframe tbody tr th {\n",
       "        vertical-align: top;\n",
       "    }\n",
       "\n",
       "    .dataframe thead th {\n",
       "        text-align: right;\n",
       "    }\n",
       "</style>\n",
       "<table border=\"1\" class=\"dataframe\">\n",
       "  <thead>\n",
       "    <tr style=\"text-align: right;\">\n",
       "      <th>Sex</th>\n",
       "      <th>female</th>\n",
       "      <th>male</th>\n",
       "    </tr>\n",
       "    <tr>\n",
       "      <th>Survived</th>\n",
       "      <th></th>\n",
       "      <th></th>\n",
       "    </tr>\n",
       "  </thead>\n",
       "  <tbody>\n",
       "    <tr>\n",
       "      <th>0</th>\n",
       "      <td>14.754098</td>\n",
       "      <td>85.245902</td>\n",
       "    </tr>\n",
       "    <tr>\n",
       "      <th>1</th>\n",
       "      <td>68.128655</td>\n",
       "      <td>31.871345</td>\n",
       "    </tr>\n",
       "  </tbody>\n",
       "</table>\n",
       "</div>"
      ],
      "text/plain": [
       "Sex          female       male\n",
       "Survived                      \n",
       "0         14.754098  85.245902\n",
       "1         68.128655  31.871345"
      ]
     },
     "execution_count": 7,
     "metadata": {},
     "output_type": "execute_result"
    }
   ],
   "source": [
    "# Exercise 3:\n",
    "\n",
    "# Your text and code go here\n",
    "# Suvivded, Sex crosstabs\n",
    "pd.crosstab(titanic['Survived'], titanic['Sex'])\n",
    "# W/ percentages\n",
    "pd.crosstab(titanic['Survived'], titanic['Sex'], normalize='index') * 100\n"
   ]
  },
  {
   "cell_type": "code",
   "execution_count": 8,
   "id": "652746f5",
   "metadata": {},
   "outputs": [
    {
     "ename": "NameError",
     "evalue": "name 'bin_df' is not defined",
     "output_type": "error",
     "traceback": [
      "\u001b[1;31m---------------------------------------------------------------------------\u001b[0m",
      "\u001b[1;31mNameError\u001b[0m                                 Traceback (most recent call last)",
      "Input \u001b[1;32mIn [8]\u001b[0m, in \u001b[0;36m<cell line: 2>\u001b[1;34m()\u001b[0m\n\u001b[0;32m      1\u001b[0m \u001b[38;5;66;03m# Survided, Age Group cross tab\u001b[39;00m\n\u001b[1;32m----> 2\u001b[0m pd\u001b[38;5;241m.\u001b[39mcrosstab(titanic[\u001b[38;5;124m'\u001b[39m\u001b[38;5;124mSurvived\u001b[39m\u001b[38;5;124m'\u001b[39m], \u001b[43mbin_df\u001b[49m[\u001b[38;5;124m'\u001b[39m\u001b[38;5;124mAgeGroup\u001b[39m\u001b[38;5;124m'\u001b[39m])\n\u001b[0;32m      3\u001b[0m \u001b[38;5;66;03m# W/ percentages\u001b[39;00m\n\u001b[0;32m      4\u001b[0m pd\u001b[38;5;241m.\u001b[39mcrosstab(titanic[\u001b[38;5;124m'\u001b[39m\u001b[38;5;124mSurvived\u001b[39m\u001b[38;5;124m'\u001b[39m], bin_df[\u001b[38;5;124m'\u001b[39m\u001b[38;5;124mAgeGroup\u001b[39m\u001b[38;5;124m'\u001b[39m], normalize\u001b[38;5;241m=\u001b[39m\u001b[38;5;124m'\u001b[39m\u001b[38;5;124mindex\u001b[39m\u001b[38;5;124m'\u001b[39m) \u001b[38;5;241m*\u001b[39m \u001b[38;5;241m100\u001b[39m\n",
      "\u001b[1;31mNameError\u001b[0m: name 'bin_df' is not defined"
     ]
    }
   ],
   "source": [
    "# Survided, Age Group cross tab\n",
    "pd.crosstab(titanic['Survived'], bin_df['AgeGroup'])\n",
    "# W/ percentages\n",
    "pd.crosstab(titanic['Survived'], bin_df['AgeGroup'], normalize='index') * 100\n",
    "\n",
    "# The crosstabulations suggest there are differences in survivial by\n",
    "# gender and age. Based on these differences I would hypothesize that being\n",
    "# younger and female predict survival. To see if this\n",
    "# assocations are statisitically signifcant we would perform a chi-sqaure.\n",
    "# To see if it is indepdent of other variables in the model we could perform a\n",
    "# logistic regression."
   ]
  },
  {
   "cell_type": "markdown",
   "id": "989124d4",
   "metadata": {
    "slideshow": {
     "slide_type": "slide"
    }
   },
   "source": [
    "## Exercise 4: Methods\n",
    "\n",
    "Given below is a simple class definition for class `Person`. At the moment the only method it has is its constructor, that takes person's first name and last name as inputs. Implement 2 additional methods for this class. One would return person's full name, another one would print it out when an object of this class is an argument to `print()` or `str()`. Create an instance of the modified class and call the first method and `print()` function on it.\n",
    "\n",
    "Method specification:\n",
    "\n",
    "Method 1 returns 1 object:\n",
    "- `full_name` - person's full name provided as first name and last name separated by a whitespace\n",
    "\n",
    "Method 2 returns `None` and prints out the object as:\n",
    "- `full_name` - person's full name provided as first name and last name separated by a whitespace\n",
    "\n",
    "External libraries:\n",
    "- None"
   ]
  },
  {
   "cell_type": "code",
   "execution_count": null,
   "id": "a5e344ef",
   "metadata": {
    "slideshow": {
     "slide_type": "fragment"
    }
   },
   "outputs": [],
   "source": [
    "class Person(object):\n",
    "    def __init__(self, first_name, last_name):\n",
    "        self.first_name = first_name\n",
    "        self.last_name = last_name"
   ]
  },
  {
   "cell_type": "code",
   "execution_count": 13,
   "id": "7bf7efea",
   "metadata": {},
   "outputs": [
    {
     "data": {
      "text/plain": [
       "'Genc Osman'"
      ]
     },
     "execution_count": 13,
     "metadata": {},
     "output_type": "execute_result"
    }
   ],
   "source": [
    "# Exercise 4:\n",
    "\n",
    "# Your text and code go here\n",
    "\n",
    "class Person(object):\n",
    "    def __init__(self, first_name, last_name):\n",
    "        self.first_name = first_name\n",
    "        self.last_name = last_name\n",
    "    @property\n",
    "    def full_name(self):\n",
    "        return f'{self.first_name} {self.last_name}'\n",
    "    @property\n",
    "    def name(self):\n",
    "        return f'{self.last_name}, {self.first_name}'\n",
    "    \n",
    "os = Person('Genc', 'Osman')\n",
    "\n",
    "os.full_name\n",
    "\n",
    "\n"
   ]
  },
  {
   "cell_type": "code",
   "execution_count": 10,
   "id": "847e5f5a",
   "metadata": {},
   "outputs": [
    {
     "name": "stdout",
     "output_type": "stream",
     "text": [
      "Genc Osman\n"
     ]
    }
   ],
   "source": [
    "\n",
    "class Person:\n",
    "    def __init__(self, first_name, last_name):\n",
    "        self.first_name = first_name\n",
    "        self.last_name = last_name\n",
    "    def __str__(self):\n",
    "        return \"{} {}\".format(self.first_name, self.last_name)\n",
    "\n",
    "os = Person('Genc', 'Osman') \n",
    "print(os)"
   ]
  },
  {
   "cell_type": "code",
   "execution_count": null,
   "id": "d7e60b08",
   "metadata": {},
   "outputs": [],
   "source": [
    "str(os)"
   ]
  },
  {
   "cell_type": "markdown",
   "id": "8c848b04",
   "metadata": {
    "slideshow": {
     "slide_type": "slide"
    }
   },
   "source": [
    "## Exercise 5: Inheritance\n",
    "\n",
    "Now create an `Employee` class, which would inherit from `Person`. Add a data attribute for salary. Implement 2 methods, where (1) retrieves employee's salary and (2) gives a salary raise as a percentage of the current salary. Test both functions on an instance of this class.  \n",
    "\n",
    "Method specification:\n",
    "\n",
    "Method 1 returns 1 object:\n",
    "- `salary` - person's annual salary provided as an integer or float\n",
    "\n",
    "Method 2 takes 1 argument:\n",
    "- `percentage` - percentage by which employee's salary should be raised\n",
    "\n",
    "External libraries:\n",
    "- None"
   ]
  },
  {
   "cell_type": "code",
   "execution_count": 11,
   "id": "3a47735d",
   "metadata": {},
   "outputs": [
    {
     "data": {
      "text/plain": [
       "50000"
      ]
     },
     "execution_count": 11,
     "metadata": {},
     "output_type": "execute_result"
    }
   ],
   "source": [
    "# Exercise 5:\n",
    "\n",
    "# Your text and code go here\n",
    "def employee(self,salary):\n",
    "    self.salary = salary\n",
    "    \n",
    "employee(os, 50000)\n",
    "\n",
    "os.salary"
   ]
  },
  {
   "cell_type": "code",
   "execution_count": 12,
   "id": "0957b5ba",
   "metadata": {},
   "outputs": [
    {
     "data": {
      "text/plain": [
       "51000"
      ]
     },
     "execution_count": 12,
     "metadata": {},
     "output_type": "execute_result"
    }
   ],
   "source": [
    "def rais3 (self):\n",
    "    self.salary += 1000\n",
    "    \n",
    "rais3(os)\n",
    "\n",
    "os.salary"
   ]
  },
  {
   "cell_type": "code",
   "execution_count": null,
   "id": "2dfcfdfa",
   "metadata": {},
   "outputs": [],
   "source": []
  }
 ],
 "metadata": {
  "celltoolbar": "Slideshow",
  "kernelspec": {
   "display_name": "Python 3 (ipykernel)",
   "language": "python",
   "name": "python3"
  },
  "language_info": {
   "codemirror_mode": {
    "name": "ipython",
    "version": 3
   },
   "file_extension": ".py",
   "mimetype": "text/x-python",
   "name": "python",
   "nbconvert_exporter": "python",
   "pygments_lexer": "ipython3",
   "version": "3.9.12"
  }
 },
 "nbformat": 4,
 "nbformat_minor": 5
}
